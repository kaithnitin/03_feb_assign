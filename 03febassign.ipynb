{
 "cells": [
  {
   "cell_type": "markdown",
   "id": "5f9c5673-bc16-4461-98f1-2892191c6160",
   "metadata": {},
   "source": [
    "# Assignment-4\n",
    "## 03 feb"
   ]
  },
  {
   "cell_type": "markdown",
   "id": "9ec813d2-7334-4474-8b03-6004b7f225f5",
   "metadata": {},
   "source": [
    "### Q1: Which keyword is used to create a function? Create a function to return a list of odd numbers in the\n",
    "### range of 1 to 25.\n",
    "### Ans: The keyword def is used to create a function in Python."
   ]
  },
  {
   "cell_type": "code",
   "execution_count": 10,
   "id": "0e025b8a-0c37-462b-ab85-400a6db25f91",
   "metadata": {},
   "outputs": [],
   "source": [
    "l=[1,2,3,4,5,6,7]\n",
    "def get_odd_number(l):\n",
    "    '''function to separate odd numbers'''\n",
    "    odd_num=[]\n",
    "    even_num=[]\n",
    "    for i in l:\n",
    "        if i%2 !=0:\n",
    "            odd_num.append(i)\n",
    "        else:\n",
    "            even_num.append(i)\n",
    "    return odd_num   "
   ]
  },
  {
   "cell_type": "code",
   "execution_count": 9,
   "id": "c6b7a914-f6a6-4687-b65d-8d71e38dda60",
   "metadata": {},
   "outputs": [
    {
     "data": {
      "text/plain": [
       "[1, 3, 5, 7]"
      ]
     },
     "execution_count": 9,
     "metadata": {},
     "output_type": "execute_result"
    }
   ],
   "source": [
    "get_odd_number(l)"
   ]
  },
  {
   "cell_type": "code",
   "execution_count": 11,
   "id": "83660843-88e5-4f87-8988-59859c84e0c2",
   "metadata": {},
   "outputs": [
    {
     "data": {
      "text/plain": [
       "[23, 45, 43, 45, 67, 45]"
      ]
     },
     "execution_count": 11,
     "metadata": {},
     "output_type": "execute_result"
    }
   ],
   "source": [
    "l2=[23,45,34,56,43,56,78,54,78,32,45,67,45]\n",
    "get_odd_number(l2)"
   ]
  },
  {
   "cell_type": "code",
   "execution_count": 4,
   "id": "e739b2fe-eeba-48d7-b73b-5d01f0c0780c",
   "metadata": {},
   "outputs": [
    {
     "data": {
      "text/plain": [
       "[1, 3, 5, 7, 9, 11, 13, 15, 17, 19, 21, 23, 25]"
      ]
     },
     "execution_count": 4,
     "metadata": {},
     "output_type": "execute_result"
    }
   ],
   "source": [
    "\n",
    "get_odd_numbers()"
   ]
  },
  {
   "cell_type": "markdown",
   "id": "e78b0c70-03a7-46e8-8a2a-722616342076",
   "metadata": {},
   "source": [
    "### Q2: Why *args and **kwargs is used in some functions? Create a function each for *args and **kwargs\n",
    "###         to demonstrate their use.\n",
    "### Ans: The syntax *args and **kwargs are used in function definitions to allow a function to take a variable number of arguments. The *args syntax allows a function to take an arbitrary number of non-keyword arguments, while the **kwargs syntax allows a function to take an arbitrary number of keyword arguments."
   ]
  },
  {
   "cell_type": "code",
   "execution_count": 12,
   "id": "8836b316-b7f3-4154-84fd-85433e75e827",
   "metadata": {},
   "outputs": [],
   "source": [
    "# *args\n",
    "def sum_numbers(*args):\n",
    "    total = 0\n",
    "    for number in args:\n",
    "        total += number\n",
    "    return total"
   ]
  },
  {
   "cell_type": "code",
   "execution_count": 14,
   "id": "10ae778a-824b-4e41-b30c-f9b7fae99fd3",
   "metadata": {},
   "outputs": [
    {
     "data": {
      "text/plain": [
       "44"
      ]
     },
     "execution_count": 14,
     "metadata": {},
     "output_type": "execute_result"
    }
   ],
   "source": [
    "sum_numbers(2,3,4,5,6,7,8,9)"
   ]
  },
  {
   "cell_type": "code",
   "execution_count": 15,
   "id": "5a844951-a73c-416c-a041-27bea1563489",
   "metadata": {},
   "outputs": [],
   "source": [
    "# *kargs\n",
    "def k_arg(**kwargs):\n",
    "    for k, v in kwargs.items():\n",
    "        print(f\"{k}: {v}\")"
   ]
  },
  {
   "cell_type": "code",
   "execution_count": 16,
   "id": "47e7f4f4-0325-4035-aaa8-ddac43ebd5cd",
   "metadata": {},
   "outputs": [
    {
     "name": "stdout",
     "output_type": "stream",
     "text": [
      "a: name\n",
      "age: 27\n",
      "exams: 22\n"
     ]
    }
   ],
   "source": [
    "k_arg(a=\"name\",age=27,exams=22)"
   ]
  },
  {
   "cell_type": "markdown",
   "id": "092a1480-ab0f-4983-bf19-cbe3735bcc0a",
   "metadata": {},
   "source": [
    "### Q3: What is an iterator in python? Name the method used to initialise the iterator object and the method\n",
    "### used for iteration. Use these methods to print the first five elements of the given \n",
    "### list [2, 4, 6, 8, 10, 12, 14,16, 18, 20].\n",
    "### Ans: An iterator in Python is an object that allows you to traverse a sequence of elements one at a time. The elements of an iterator can be any type of data, such as numbers, strings, or objects.\n",
    "### The method used to initialize the iterator object in Python is the iter() method.\n",
    "### The method used for iteration is the next() method. The next() method returns the next item in the sequence each time it is called."
   ]
  },
  {
   "cell_type": "code",
   "execution_count": 12,
   "id": "f25a94f7-a017-4e0a-944f-9879b0fa91c5",
   "metadata": {},
   "outputs": [
    {
     "name": "stdout",
     "output_type": "stream",
     "text": [
      "2\n",
      "4\n",
      "6\n",
      "8\n",
      "10\n"
     ]
    }
   ],
   "source": [
    "l1 = [2, 4, 6, 8, 10, 12, 14, 16, 18, 20]\n",
    "\n",
    "# Initialize the iterator object\n",
    "l1_iterator = iter(l1)\n",
    "\n",
    "# Use the iterator object to traverse the elements\n",
    "for i in range(5):\n",
    "    print(next(l1_iterator))\n"
   ]
  },
  {
   "cell_type": "code",
   "execution_count": 11,
   "id": "0e421e2a-26cb-4854-9e13-280a9e2c63b0",
   "metadata": {},
   "outputs": [
    {
     "name": "stdout",
     "output_type": "stream",
     "text": [
      "2\n",
      "4\n",
      "6\n",
      "8\n",
      "10\n"
     ]
    }
   ],
   "source": [
    "# l2= [2, 4, 6, 8, 10, 12, 14,16, 18, 20]\n",
    "# for i in l1:\n",
    "#     if i==12:\n",
    "#         break\n",
    "#     print(i)"
   ]
  },
  {
   "cell_type": "markdown",
   "id": "537daa74-7bb1-4ecf-a0b4-100887b84d3b",
   "metadata": {},
   "source": [
    "### Q4: What is a generator function in python? Why yield keyword is used? Give an example of a generator\n",
    "### function.\n",
    "### Ans: A generator function is a special type of function in Python that allows you to create an iterator. It is defined like a normal function, but instead of using the return keyword to return a value, it uses the yield keyword. When a generator function is called, it returns a generator object that can be used to traverse the elements generated by the function.\n",
    "\n",
    "### The yield keyword is used to generate values one at a time. Each time the yield keyword is executed, it returns the next value in the sequence. When the generator function is resumed, it continues executing from where it left off until it encounters the next yield statement or the function terminates."
   ]
  },
  {
   "cell_type": "code",
   "execution_count": 13,
   "id": "ae5501e5-6805-4688-900a-101b83f77225",
   "metadata": {},
   "outputs": [
    {
     "name": "stdout",
     "output_type": "stream",
     "text": [
      "0\n",
      "1\n",
      "4\n",
      "9\n",
      "16\n",
      "25\n",
      "36\n",
      "49\n",
      "64\n",
      "81\n"
     ]
    }
   ],
   "source": [
    "def squares():\n",
    "    for i in range(10):\n",
    "        yield i**2\n",
    "\n",
    "# Call the generator function to get the generator object\n",
    "gen = squares()\n",
    "\n",
    "# Use the generator object to traverse the elements\n",
    "for i in gen:\n",
    "    print(i)"
   ]
  },
  {
   "cell_type": "markdown",
   "id": "62e40f52-a9a5-42e8-a19a-c8aae3a1a3b5",
   "metadata": {},
   "source": [
    "### Q5: Create a generator function for prime numbers less than 1000. Use the next() method to print the\n",
    "### first 20 prime numbers."
   ]
  },
  {
   "cell_type": "code",
   "execution_count": 17,
   "id": "9a3441dc-fedd-4af8-8f89-bd85f689f2e7",
   "metadata": {},
   "outputs": [
    {
     "name": "stdout",
     "output_type": "stream",
     "text": [
      "2\n",
      "3\n",
      "5\n",
      "7\n",
      "11\n",
      "13\n",
      "17\n",
      "19\n",
      "23\n",
      "29\n",
      "31\n",
      "37\n",
      "41\n",
      "43\n",
      "47\n",
      "53\n",
      "59\n",
      "61\n",
      "67\n",
      "71\n"
     ]
    }
   ],
   "source": [
    "def primes():\n",
    "    number = 2\n",
    "    while number < 1000:\n",
    "        prime = True\n",
    "        for i in range(2, number):\n",
    "            if number % i == 0:\n",
    "                prime = False\n",
    "                break\n",
    "        if prime:\n",
    "            yield number\n",
    "        number += 1\n",
    "\n",
    "# Call the generator function to get the generator object\n",
    "gen = primes()\n",
    "\n",
    "# Use the next() method to print the first 20 prime numbers\n",
    "for i in range(20):\n",
    "    print(next(gen))"
   ]
  },
  {
   "cell_type": "markdown",
   "id": "3428cb17-389b-4ec8-9ba7-d2a4a4801c0a",
   "metadata": {},
   "source": [
    "### Q6: Write a python program to print the first 10 Fibonacci numbers using a while loop."
   ]
  },
  {
   "cell_type": "code",
   "execution_count": 18,
   "id": "d58e527d-1d86-4bf6-b7ff-60190cc1e629",
   "metadata": {},
   "outputs": [
    {
     "name": "stdout",
     "output_type": "stream",
     "text": [
      "0\n",
      "1\n",
      "1\n",
      "2\n",
      "3\n",
      "5\n",
      "8\n",
      "13\n",
      "21\n",
      "34\n",
      "55\n",
      "89\n",
      "144\n",
      "233\n",
      "377\n",
      "610\n",
      "987\n",
      "1597\n",
      "2584\n",
      "4181\n"
     ]
    }
   ],
   "source": [
    "def fibonacci(n):\n",
    "    a, b = 0, 1\n",
    "    count = 0\n",
    "    while count < n:\n",
    "        yield a\n",
    "        a, b = b, a + b\n",
    "        count += 1\n",
    "\n",
    "# Call the generator function to get the generator object\n",
    "gen = fibonacci(20)\n",
    "\n",
    "# Use the generator object to traverse the elements\n",
    "for i in gen:\n",
    "    print(i)"
   ]
  },
  {
   "cell_type": "markdown",
   "id": "e03cd785-a6b0-4a29-b8b6-2040f5aa27cc",
   "metadata": {},
   "source": [
    "### Q7: Write a List Comprehension to iterate through the given string: ‘pwskills’.\n",
    "### Expected output: ['p', 'w', 's', 'k', 'i', 'l', 'l', 's']"
   ]
  },
  {
   "cell_type": "code",
   "execution_count": 20,
   "id": "1c3030ac-e363-418c-acad-b34a335ff48f",
   "metadata": {},
   "outputs": [
    {
     "name": "stdout",
     "output_type": "stream",
     "text": [
      "['p', 'w', 's', 'k', 'i', 'l', 'l', 's']\n"
     ]
    }
   ],
   "source": [
    "string = 'pwskills'\n",
    "characters = [char for char in string]\n",
    "\n",
    "print(characters)"
   ]
  },
  {
   "cell_type": "markdown",
   "id": "e1831d16-a4e8-49df-b67f-7f323e4e0257",
   "metadata": {},
   "source": [
    "### Q8: Write a python program to check whether a given number is Palindrome or not using a while loop."
   ]
  },
  {
   "cell_type": "code",
   "execution_count": null,
   "id": "7c6933ee-1d72-4345-a594-940451af6caa",
   "metadata": {},
   "outputs": [],
   "source": [
    "def is_palindrome(number):\n",
    "    temp = number\n",
    "    reverse = 0\n",
    "    while temp > 0:\n",
    "        last_digit = temp % 10\n",
    "        reverse = (reverse * 10) + last_digit\n",
    "        temp = temp // 10\n",
    "    return reverse == number\n",
    "\n",
    "number = 121\n",
    "if is_palindrome(number):\n",
    "    print(f\"{number} is a palindrome\")\n",
    "else:\n",
    "    print(f\"{number} is not a palindrome\")"
   ]
  },
  {
   "cell_type": "markdown",
   "id": "49e2d71f-3b56-4336-9251-0fc22bf107f3",
   "metadata": {},
   "source": [
    "### Q9.:Write a code to print odd numbers from 1 to 100 using list comprehension.\n",
    "### Note: Use a list comprehension to create a list from 1 to 100 and use another List comprehension to filter\n",
    "### out odd numbers."
   ]
  },
  {
   "cell_type": "code",
   "execution_count": 21,
   "id": "b55ec29b-dd66-4e07-9caa-181054cfcf23",
   "metadata": {},
   "outputs": [
    {
     "name": "stdout",
     "output_type": "stream",
     "text": [
      "[1, 3, 5, 7, 9, 11, 13, 15, 17, 19, 21, 23, 25, 27, 29, 31, 33, 35, 37, 39, 41, 43, 45, 47, 49, 51, 53, 55, 57, 59, 61, 63, 65, 67, 69, 71, 73, 75, 77, 79, 81, 83, 85, 87, 89, 91, 93, 95, 97, 99]\n"
     ]
    }
   ],
   "source": [
    "# List comprehension to create a list from 1 to 100\n",
    "numbers = [x for x in range(1, 101)]\n",
    "\n",
    "# List comprehension to filter out odd numbers\n",
    "odd_numbers = [x for x in numbers if x % 2 != 0]\n",
    "\n",
    "print(odd_numbers)"
   ]
  },
  {
   "cell_type": "code",
   "execution_count": null,
   "id": "73670045-69d5-4c88-9d0b-f3e54ce5a618",
   "metadata": {},
   "outputs": [],
   "source": []
  }
 ],
 "metadata": {
  "kernelspec": {
   "display_name": "Python 3 (ipykernel)",
   "language": "python",
   "name": "python3"
  },
  "language_info": {
   "codemirror_mode": {
    "name": "ipython",
    "version": 3
   },
   "file_extension": ".py",
   "mimetype": "text/x-python",
   "name": "python",
   "nbconvert_exporter": "python",
   "pygments_lexer": "ipython3",
   "version": "3.10.6"
  }
 },
 "nbformat": 4,
 "nbformat_minor": 5
}
